{
 "cells": [
  {
   "cell_type": "markdown",
   "metadata": {},
   "source": [
    "# Introduction to Data Formats and S3"
   ]
  },
  {
   "cell_type": "code",
   "execution_count": 1,
   "metadata": {},
   "outputs": [],
   "source": [
    "import pandas as pd\n",
    "import numpy as np\n",
    "\n",
    "import boto3\n",
    "import sagemaker.amazon.common as smac"
   ]
  },
  {
   "cell_type": "code",
   "execution_count": 2,
   "metadata": {},
   "outputs": [],
   "source": [
    "np.random.seed(5)"
   ]
  },
  {
   "cell_type": "code",
   "execution_count": 2,
   "metadata": {},
   "outputs": [],
   "source": [
    "# NOTE: Specify your bucket\n",
    "s3_bucket_name = 'bucket-jd-1'"
   ]
  },
  {
   "cell_type": "markdown",
   "metadata": {},
   "source": [
    "## Sample DataSet\n",
    "### Three features x1,x2,x3 and a target variable y"
   ]
  },
  {
   "cell_type": "code",
   "execution_count": 3,
   "metadata": {},
   "outputs": [],
   "source": [
    "n = 10\n",
    "\n",
    "x1 = np.random.random_sample(n)       # n floating point numbers between 0 and 1\n",
    "x2 = np.random.randint(100,200,n)     # n integers\n",
    "x3 = np.random.random_sample(n) * 10  # n floating point numbers between 0 and 10\n",
    "y = np.random.randint(0,2,n)          # Response variable 0 or 1  "
   ]
  },
  {
   "cell_type": "code",
   "execution_count": 4,
   "metadata": {},
   "outputs": [
    {
     "data": {
      "text/plain": [
       "array([0, 1, 1, 1, 1, 0, 1, 0, 1, 1])"
      ]
     },
     "execution_count": 4,
     "metadata": {},
     "output_type": "execute_result"
    }
   ],
   "source": [
    "y"
   ]
  },
  {
   "cell_type": "code",
   "execution_count": 5,
   "metadata": {},
   "outputs": [],
   "source": [
    "df = pd.DataFrame({'x1':x1,\n",
    "              'x2':x2, \n",
    "              'x3':x3,\n",
    "              'y':y})"
   ]
  },
  {
   "cell_type": "code",
   "execution_count": 6,
   "metadata": {},
   "outputs": [
    {
     "data": {
      "text/html": [
       "<div>\n",
       "<style scoped>\n",
       "    .dataframe tbody tr th:only-of-type {\n",
       "        vertical-align: middle;\n",
       "    }\n",
       "\n",
       "    .dataframe tbody tr th {\n",
       "        vertical-align: top;\n",
       "    }\n",
       "\n",
       "    .dataframe thead th {\n",
       "        text-align: right;\n",
       "    }\n",
       "</style>\n",
       "<table border=\"1\" class=\"dataframe\">\n",
       "  <thead>\n",
       "    <tr style=\"text-align: right;\">\n",
       "      <th></th>\n",
       "      <th>x1</th>\n",
       "      <th>x2</th>\n",
       "      <th>x3</th>\n",
       "      <th>y</th>\n",
       "    </tr>\n",
       "  </thead>\n",
       "  <tbody>\n",
       "    <tr>\n",
       "      <th>0</th>\n",
       "      <td>0.378391</td>\n",
       "      <td>115</td>\n",
       "      <td>8.645204</td>\n",
       "      <td>0</td>\n",
       "    </tr>\n",
       "    <tr>\n",
       "      <th>1</th>\n",
       "      <td>0.404190</td>\n",
       "      <td>150</td>\n",
       "      <td>5.832953</td>\n",
       "      <td>1</td>\n",
       "    </tr>\n",
       "    <tr>\n",
       "      <th>2</th>\n",
       "      <td>0.723977</td>\n",
       "      <td>131</td>\n",
       "      <td>5.789761</td>\n",
       "      <td>1</td>\n",
       "    </tr>\n",
       "    <tr>\n",
       "      <th>3</th>\n",
       "      <td>0.596353</td>\n",
       "      <td>189</td>\n",
       "      <td>3.331292</td>\n",
       "      <td>1</td>\n",
       "    </tr>\n",
       "    <tr>\n",
       "      <th>4</th>\n",
       "      <td>0.608250</td>\n",
       "      <td>197</td>\n",
       "      <td>7.402876</td>\n",
       "      <td>1</td>\n",
       "    </tr>\n",
       "    <tr>\n",
       "      <th>5</th>\n",
       "      <td>0.166842</td>\n",
       "      <td>171</td>\n",
       "      <td>6.859591</td>\n",
       "      <td>0</td>\n",
       "    </tr>\n",
       "    <tr>\n",
       "      <th>6</th>\n",
       "      <td>0.130583</td>\n",
       "      <td>110</td>\n",
       "      <td>8.667402</td>\n",
       "      <td>1</td>\n",
       "    </tr>\n",
       "    <tr>\n",
       "      <th>7</th>\n",
       "      <td>0.057972</td>\n",
       "      <td>158</td>\n",
       "      <td>4.844501</td>\n",
       "      <td>0</td>\n",
       "    </tr>\n",
       "    <tr>\n",
       "      <th>8</th>\n",
       "      <td>0.554657</td>\n",
       "      <td>136</td>\n",
       "      <td>4.248542</td>\n",
       "      <td>1</td>\n",
       "    </tr>\n",
       "    <tr>\n",
       "      <th>9</th>\n",
       "      <td>0.935385</td>\n",
       "      <td>192</td>\n",
       "      <td>5.565186</td>\n",
       "      <td>1</td>\n",
       "    </tr>\n",
       "  </tbody>\n",
       "</table>\n",
       "</div>"
      ],
      "text/plain": [
       "         x1   x2        x3  y\n",
       "0  0.378391  115  8.645204  0\n",
       "1  0.404190  150  5.832953  1\n",
       "2  0.723977  131  5.789761  1\n",
       "3  0.596353  189  3.331292  1\n",
       "4  0.608250  197  7.402876  1\n",
       "5  0.166842  171  6.859591  0\n",
       "6  0.130583  110  8.667402  1\n",
       "7  0.057972  158  4.844501  0\n",
       "8  0.554657  136  4.248542  1\n",
       "9  0.935385  192  5.565186  1"
      ]
     },
     "execution_count": 6,
     "metadata": {},
     "output_type": "execute_result"
    }
   ],
   "source": [
    "df"
   ]
  },
  {
   "cell_type": "code",
   "execution_count": 7,
   "metadata": {},
   "outputs": [],
   "source": [
    "# Write to SageMaker Notebook Instance\n",
    "df.to_csv('demo_file.csv',index=False)"
   ]
  },
  {
   "cell_type": "code",
   "execution_count": 8,
   "metadata": {},
   "outputs": [],
   "source": [
    "# Write and Reading from S3 is just as easy\n",
    "# files are referred as objects in S3.  \n",
    "# file name is referred as key name in S3\n",
    "# Files stored in S3 are automatically replicated across 3 different availability zones \n",
    "# in the region where the bucket was created.\n",
    "\n",
    "# http://boto3.readthedocs.io/en/latest/guide/s3.html\n",
    "def write_to_s3(filename, bucket, key):\n",
    "    with open(filename,'rb') as f: # Read in binary mode\n",
    "        return boto3.Session().resource('s3').Bucket(bucket).Object(key).upload_fileobj(f)"
   ]
  },
  {
   "cell_type": "code",
   "execution_count": 9,
   "metadata": {},
   "outputs": [],
   "source": [
    "# http://boto3.readthedocs.io/en/latest/guide/s3.html\n",
    "def download_from_s3(filename, bucket, key):\n",
    "    with open(filename,'wb') as f:\n",
    "        return boto3.Session().resource('s3').Bucket(bucket).Object(key).download_fileobj(f)"
   ]
  },
  {
   "cell_type": "code",
   "execution_count": 10,
   "metadata": {},
   "outputs": [],
   "source": [
    "write_to_s3('demo_file.csv', s3_bucket_name, 'data_format/demo_file.csv')"
   ]
  },
  {
   "cell_type": "code",
   "execution_count": 11,
   "metadata": {},
   "outputs": [],
   "source": [
    "download_from_s3('demo_file_from_s3.csv',s3_bucket_name,'data_format/demo_file.csv')"
   ]
  },
  {
   "cell_type": "markdown",
   "metadata": {},
   "source": [
    "## RecordIO Format\n",
    "\n",
    "We will use SageMaker SDK write_numpy_to_dense_tensor() method to create RecordIO files\n",
    "\n",
    "\n",
    "Data Types: Int32, Float32, Float64  \n",
    "\n",
    "Reference:\n",
    "https://github.com/aws/sagemaker-python-sdk/blob/master/src/sagemaker/amazon/common.py"
   ]
  },
  {
   "cell_type": "code",
   "execution_count": 16,
   "metadata": {},
   "outputs": [
    {
     "data": {
      "text/html": [
       "<div>\n",
       "<style scoped>\n",
       "    .dataframe tbody tr th:only-of-type {\n",
       "        vertical-align: middle;\n",
       "    }\n",
       "\n",
       "    .dataframe tbody tr th {\n",
       "        vertical-align: top;\n",
       "    }\n",
       "\n",
       "    .dataframe thead th {\n",
       "        text-align: right;\n",
       "    }\n",
       "</style>\n",
       "<table border=\"1\" class=\"dataframe\">\n",
       "  <thead>\n",
       "    <tr style=\"text-align: right;\">\n",
       "      <th></th>\n",
       "      <th>x1</th>\n",
       "      <th>x2</th>\n",
       "      <th>x3</th>\n",
       "      <th>y</th>\n",
       "    </tr>\n",
       "  </thead>\n",
       "  <tbody>\n",
       "    <tr>\n",
       "      <th>0</th>\n",
       "      <td>0.378391</td>\n",
       "      <td>115</td>\n",
       "      <td>8.645204</td>\n",
       "      <td>0</td>\n",
       "    </tr>\n",
       "    <tr>\n",
       "      <th>1</th>\n",
       "      <td>0.404190</td>\n",
       "      <td>150</td>\n",
       "      <td>5.832953</td>\n",
       "      <td>1</td>\n",
       "    </tr>\n",
       "    <tr>\n",
       "      <th>2</th>\n",
       "      <td>0.723977</td>\n",
       "      <td>131</td>\n",
       "      <td>5.789761</td>\n",
       "      <td>1</td>\n",
       "    </tr>\n",
       "    <tr>\n",
       "      <th>3</th>\n",
       "      <td>0.596353</td>\n",
       "      <td>189</td>\n",
       "      <td>3.331292</td>\n",
       "      <td>1</td>\n",
       "    </tr>\n",
       "    <tr>\n",
       "      <th>4</th>\n",
       "      <td>0.608250</td>\n",
       "      <td>197</td>\n",
       "      <td>7.402876</td>\n",
       "      <td>1</td>\n",
       "    </tr>\n",
       "  </tbody>\n",
       "</table>\n",
       "</div>"
      ],
      "text/plain": [
       "         x1   x2        x3  y\n",
       "0  0.378391  115  8.645204  0\n",
       "1  0.404190  150  5.832953  1\n",
       "2  0.723977  131  5.789761  1\n",
       "3  0.596353  189  3.331292  1\n",
       "4  0.608250  197  7.402876  1"
      ]
     },
     "execution_count": 16,
     "metadata": {},
     "output_type": "execute_result"
    }
   ],
   "source": [
    "df.head()"
   ]
  },
  {
   "cell_type": "code",
   "execution_count": 17,
   "metadata": {},
   "outputs": [],
   "source": [
    "# X must be an array\n",
    "X = df[['x1','x2','x3']].to_numpy()"
   ]
  },
  {
   "cell_type": "code",
   "execution_count": 18,
   "metadata": {},
   "outputs": [
    {
     "data": {
      "text/plain": [
       "array([[3.78390927e-01, 1.15000000e+02, 8.64520393e+00],\n",
       "       [4.04189633e-01, 1.50000000e+02, 5.83295327e+00],\n",
       "       [7.23976987e-01, 1.31000000e+02, 5.78976088e+00],\n",
       "       [5.96353404e-01, 1.89000000e+02, 3.33129154e+00],\n",
       "       [6.08250343e-01, 1.97000000e+02, 7.40287576e+00],\n",
       "       [1.66841606e-01, 1.71000000e+02, 6.85959120e+00],\n",
       "       [1.30582833e-01, 1.10000000e+02, 8.66740173e+00],\n",
       "       [5.79715060e-02, 1.58000000e+02, 4.84450071e+00],\n",
       "       [5.54657051e-01, 1.36000000e+02, 4.24854157e+00],\n",
       "       [9.35385477e-01, 1.92000000e+02, 5.56518611e+00]])"
      ]
     },
     "execution_count": 18,
     "metadata": {},
     "output_type": "execute_result"
    }
   ],
   "source": [
    "X"
   ]
  },
  {
   "cell_type": "code",
   "execution_count": 19,
   "metadata": {},
   "outputs": [
    {
     "data": {
      "text/plain": [
       "numpy.ndarray"
      ]
     },
     "execution_count": 19,
     "metadata": {},
     "output_type": "execute_result"
    }
   ],
   "source": [
    "type(X)"
   ]
  },
  {
   "cell_type": "code",
   "execution_count": 20,
   "metadata": {},
   "outputs": [],
   "source": [
    "# Response/Target variable needs to a vector\n",
    "# y must be a vector \n",
    "y = df[['y']].to_numpy()"
   ]
  },
  {
   "cell_type": "code",
   "execution_count": 21,
   "metadata": {},
   "outputs": [
    {
     "data": {
      "text/plain": [
       "(10, 1)"
      ]
     },
     "execution_count": 21,
     "metadata": {},
     "output_type": "execute_result"
    }
   ],
   "source": [
    "# it is right now a array of dimensions 10x1\n",
    "y.shape"
   ]
  },
  {
   "cell_type": "code",
   "execution_count": 22,
   "metadata": {},
   "outputs": [
    {
     "data": {
      "text/plain": [
       "array([[0],\n",
       "       [1],\n",
       "       [1],\n",
       "       [1],\n",
       "       [1],\n",
       "       [0],\n",
       "       [1],\n",
       "       [0],\n",
       "       [1],\n",
       "       [1]])"
      ]
     },
     "execution_count": 22,
     "metadata": {},
     "output_type": "execute_result"
    }
   ],
   "source": [
    "y"
   ]
  },
  {
   "cell_type": "code",
   "execution_count": 23,
   "metadata": {},
   "outputs": [],
   "source": [
    "# Flatten to a single dimension array of 10 elements\n",
    "y = y.ravel()"
   ]
  },
  {
   "cell_type": "code",
   "execution_count": 24,
   "metadata": {},
   "outputs": [
    {
     "data": {
      "text/plain": [
       "array([0, 1, 1, 1, 1, 0, 1, 0, 1, 1])"
      ]
     },
     "execution_count": 24,
     "metadata": {},
     "output_type": "execute_result"
    }
   ],
   "source": [
    "y"
   ]
  },
  {
   "cell_type": "code",
   "execution_count": 25,
   "metadata": {},
   "outputs": [],
   "source": [
    "def write_recordio_file (filename, x, y=None):\n",
    "    with open(filename, 'wb') as f:\n",
    "        smac.write_numpy_to_dense_tensor(f, x, y)"
   ]
  },
  {
   "cell_type": "code",
   "execution_count": 26,
   "metadata": {},
   "outputs": [],
   "source": [
    "def read_recordio_file (filename, recordsToPrint = 10):\n",
    "    with open(filename, 'rb') as f:\n",
    "        record = smac.read_records(f)\n",
    "        for i, r in enumerate(record):\n",
    "            if i >= recordsToPrint:\n",
    "                break\n",
    "            print (\"record: {}\".format(i))\n",
    "            print(r)"
   ]
  },
  {
   "cell_type": "code",
   "execution_count": 27,
   "metadata": {},
   "outputs": [],
   "source": [
    "write_recordio_file('demo_file.recordio',X,y)"
   ]
  },
  {
   "cell_type": "code",
   "execution_count": 28,
   "metadata": {},
   "outputs": [
    {
     "data": {
      "text/html": [
       "<div>\n",
       "<style scoped>\n",
       "    .dataframe tbody tr th:only-of-type {\n",
       "        vertical-align: middle;\n",
       "    }\n",
       "\n",
       "    .dataframe tbody tr th {\n",
       "        vertical-align: top;\n",
       "    }\n",
       "\n",
       "    .dataframe thead th {\n",
       "        text-align: right;\n",
       "    }\n",
       "</style>\n",
       "<table border=\"1\" class=\"dataframe\">\n",
       "  <thead>\n",
       "    <tr style=\"text-align: right;\">\n",
       "      <th></th>\n",
       "      <th>x1</th>\n",
       "      <th>x2</th>\n",
       "      <th>x3</th>\n",
       "      <th>y</th>\n",
       "    </tr>\n",
       "  </thead>\n",
       "  <tbody>\n",
       "    <tr>\n",
       "      <th>0</th>\n",
       "      <td>0.378391</td>\n",
       "      <td>115</td>\n",
       "      <td>8.645204</td>\n",
       "      <td>0</td>\n",
       "    </tr>\n",
       "    <tr>\n",
       "      <th>1</th>\n",
       "      <td>0.404190</td>\n",
       "      <td>150</td>\n",
       "      <td>5.832953</td>\n",
       "      <td>1</td>\n",
       "    </tr>\n",
       "    <tr>\n",
       "      <th>2</th>\n",
       "      <td>0.723977</td>\n",
       "      <td>131</td>\n",
       "      <td>5.789761</td>\n",
       "      <td>1</td>\n",
       "    </tr>\n",
       "  </tbody>\n",
       "</table>\n",
       "</div>"
      ],
      "text/plain": [
       "         x1   x2        x3  y\n",
       "0  0.378391  115  8.645204  0\n",
       "1  0.404190  150  5.832953  1\n",
       "2  0.723977  131  5.789761  1"
      ]
     },
     "execution_count": 28,
     "metadata": {},
     "output_type": "execute_result"
    }
   ],
   "source": [
    "df.head(3)"
   ]
  },
  {
   "cell_type": "code",
   "execution_count": 29,
   "metadata": {},
   "outputs": [
    {
     "name": "stdout",
     "output_type": "stream",
     "text": [
      "record: 0\n",
      "features {\n",
      "  key: \"values\"\n",
      "  value {\n",
      "    float64_tensor {\n",
      "      values: 0.3783909271564435\n",
      "      values: 115.0\n",
      "      values: 8.64520392578028\n",
      "    }\n",
      "  }\n",
      "}\n",
      "label {\n",
      "  key: \"values\"\n",
      "  value {\n",
      "    int32_tensor {\n",
      "      values: 0\n",
      "    }\n",
      "  }\n",
      "}\n",
      "\n",
      "record: 1\n",
      "features {\n",
      "  key: \"values\"\n",
      "  value {\n",
      "    float64_tensor {\n",
      "      values: 0.4041896328543546\n",
      "      values: 150.0\n",
      "      values: 5.832953265698598\n",
      "    }\n",
      "  }\n",
      "}\n",
      "label {\n",
      "  key: \"values\"\n",
      "  value {\n",
      "    int32_tensor {\n",
      "      values: 1\n",
      "    }\n",
      "  }\n",
      "}\n",
      "\n",
      "record: 2\n",
      "features {\n",
      "  key: \"values\"\n",
      "  value {\n",
      "    float64_tensor {\n",
      "      values: 0.723976987153143\n",
      "      values: 131.0\n",
      "      values: 5.789760876800564\n",
      "    }\n",
      "  }\n",
      "}\n",
      "label {\n",
      "  key: \"values\"\n",
      "  value {\n",
      "    int32_tensor {\n",
      "      values: 1\n",
      "    }\n",
      "  }\n",
      "}\n",
      "\n"
     ]
    }
   ],
   "source": [
    "read_recordio_file('demo_file.recordio',3)"
   ]
  },
  {
   "cell_type": "code",
   "execution_count": 30,
   "metadata": {},
   "outputs": [],
   "source": [
    "write_to_s3('demo_file.recordio', s3_bucket_name, 'data_format/demo_file.recordio')"
   ]
  },
  {
   "cell_type": "code",
   "execution_count": 31,
   "metadata": {},
   "outputs": [],
   "source": [
    "download_from_s3('demo_file_from_s3.recordio',s3_bucket_name,'data_format/demo_file.recordio')"
   ]
  },
  {
   "cell_type": "code",
   "execution_count": null,
   "metadata": {},
   "outputs": [],
   "source": []
  }
 ],
 "metadata": {
  "kernelspec": {
   "display_name": "conda_python3",
   "language": "python",
   "name": "conda_python3"
  },
  "language_info": {
   "codemirror_mode": {
    "name": "ipython",
    "version": 3
   },
   "file_extension": ".py",
   "mimetype": "text/x-python",
   "name": "python",
   "nbconvert_exporter": "python",
   "pygments_lexer": "ipython3",
   "version": "3.6.5"
  }
 },
 "nbformat": 4,
 "nbformat_minor": 2
}
